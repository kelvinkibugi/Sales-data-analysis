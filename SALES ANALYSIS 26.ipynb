{
 "cells": [
  {
   "cell_type": "code",
   "execution_count": 23,
   "id": "898338a4-1ef7-42a2-9ae5-49074307c5f9",
   "metadata": {},
   "outputs": [],
   "source": [
    "import pandas as pd\n",
    "import seaborn as sns\n",
    "import matplotlib.pyplot as plt\n",
    "import numpy as np"
   ]
  },
  {
   "cell_type": "code",
   "execution_count": 24,
   "id": "9e082b81-07bc-4161-9dc8-28e2f7e11831",
   "metadata": {},
   "outputs": [],
   "source": [
    "data_Jan =pd.read_csv(r\"C:\\Users\\HP\\Desktop\\Data-Sets\\Sales_January_2019.csv\")\n",
    "data_Feb =pd.read_csv(r\"C:\\Users\\HP\\Desktop\\Data-Sets\\Sales_February_2019.csv\")\n",
    "data_Mar =pd.read_csv(r\"C:\\Users\\HP\\Desktop\\Data-Sets\\Sales_March_2019.csv\")\n",
    "data_Apr =pd.read_csv(r\"C:\\Users\\HP\\Desktop\\Data-Sets\\Sales_April_2019.csv\")\n"
   ]
  },
  {
   "cell_type": "code",
   "execution_count": 25,
   "id": "bf29c6f5-f3e4-47aa-afdd-ad7ecb5df358",
   "metadata": {},
   "outputs": [
    {
     "data": {
      "text/html": [
       "<div>\n",
       "<style scoped>\n",
       "    .dataframe tbody tr th:only-of-type {\n",
       "        vertical-align: middle;\n",
       "    }\n",
       "\n",
       "    .dataframe tbody tr th {\n",
       "        vertical-align: top;\n",
       "    }\n",
       "\n",
       "    .dataframe thead th {\n",
       "        text-align: right;\n",
       "    }\n",
       "</style>\n",
       "<table border=\"1\" class=\"dataframe\">\n",
       "  <thead>\n",
       "    <tr style=\"text-align: right;\">\n",
       "      <th></th>\n",
       "      <th>Order ID</th>\n",
       "      <th>Product</th>\n",
       "      <th>Quantity Ordered</th>\n",
       "      <th>Price Each</th>\n",
       "      <th>Order Date</th>\n",
       "      <th>Purchase Address</th>\n",
       "    </tr>\n",
       "  </thead>\n",
       "  <tbody>\n",
       "    <tr>\n",
       "      <th>0</th>\n",
       "      <td>176558</td>\n",
       "      <td>USB-C Charging Cable</td>\n",
       "      <td>2</td>\n",
       "      <td>11.95</td>\n",
       "      <td>04/19/19 08:46</td>\n",
       "      <td>917 1st St, Dallas, TX 75001</td>\n",
       "    </tr>\n",
       "    <tr>\n",
       "      <th>1</th>\n",
       "      <td>NaN</td>\n",
       "      <td>NaN</td>\n",
       "      <td>NaN</td>\n",
       "      <td>NaN</td>\n",
       "      <td>NaN</td>\n",
       "      <td>NaN</td>\n",
       "    </tr>\n",
       "    <tr>\n",
       "      <th>2</th>\n",
       "      <td>176559</td>\n",
       "      <td>Bose SoundSport Headphones</td>\n",
       "      <td>1</td>\n",
       "      <td>99.99</td>\n",
       "      <td>04-07-2019 22:30</td>\n",
       "      <td>682 Chestnut St, Boston, MA 02215</td>\n",
       "    </tr>\n",
       "    <tr>\n",
       "      <th>3</th>\n",
       "      <td>176560</td>\n",
       "      <td>Google Phone</td>\n",
       "      <td>1</td>\n",
       "      <td>600</td>\n",
       "      <td>04-12-2019 14:38</td>\n",
       "      <td>669 Spruce St, Los Angeles, CA 90001</td>\n",
       "    </tr>\n",
       "    <tr>\n",
       "      <th>4</th>\n",
       "      <td>176560</td>\n",
       "      <td>Wired Headphones</td>\n",
       "      <td>1</td>\n",
       "      <td>11.99</td>\n",
       "      <td>04-12-2019 14:38</td>\n",
       "      <td>669 Spruce St, Los Angeles, CA 90001</td>\n",
       "    </tr>\n",
       "  </tbody>\n",
       "</table>\n",
       "</div>"
      ],
      "text/plain": [
       "  Order ID                     Product Quantity Ordered Price Each  \\\n",
       "0   176558        USB-C Charging Cable                2      11.95   \n",
       "1      NaN                         NaN              NaN        NaN   \n",
       "2   176559  Bose SoundSport Headphones                1      99.99   \n",
       "3   176560                Google Phone                1        600   \n",
       "4   176560            Wired Headphones                1      11.99   \n",
       "\n",
       "         Order Date                      Purchase Address  \n",
       "0    04/19/19 08:46          917 1st St, Dallas, TX 75001  \n",
       "1               NaN                                   NaN  \n",
       "2  04-07-2019 22:30     682 Chestnut St, Boston, MA 02215  \n",
       "3  04-12-2019 14:38  669 Spruce St, Los Angeles, CA 90001  \n",
       "4  04-12-2019 14:38  669 Spruce St, Los Angeles, CA 90001  "
      ]
     },
     "execution_count": 25,
     "metadata": {},
     "output_type": "execute_result"
    }
   ],
   "source": [
    "data_Apr.head()"
   ]
  },
  {
   "cell_type": "code",
   "execution_count": 26,
   "id": "15670242-c6d3-433c-8d15-5b2889a9afee",
   "metadata": {},
   "outputs": [],
   "source": [
    "df = pd.concat([data_Jan,data_Feb,data_Mar,data_Apr], ignore_index=True)\n"
   ]
  },
  {
   "cell_type": "code",
   "execution_count": 27,
   "id": "11232d5d-3e89-4ca7-be35-16b996f87cec",
   "metadata": {},
   "outputs": [
    {
     "data": {
      "text/html": [
       "<div>\n",
       "<style scoped>\n",
       "    .dataframe tbody tr th:only-of-type {\n",
       "        vertical-align: middle;\n",
       "    }\n",
       "\n",
       "    .dataframe tbody tr th {\n",
       "        vertical-align: top;\n",
       "    }\n",
       "\n",
       "    .dataframe thead th {\n",
       "        text-align: right;\n",
       "    }\n",
       "</style>\n",
       "<table border=\"1\" class=\"dataframe\">\n",
       "  <thead>\n",
       "    <tr style=\"text-align: right;\">\n",
       "      <th></th>\n",
       "      <th>Order ID</th>\n",
       "      <th>Product</th>\n",
       "      <th>Quantity Ordered</th>\n",
       "      <th>Price Each</th>\n",
       "      <th>Order Date</th>\n",
       "      <th>Purchase Address</th>\n",
       "    </tr>\n",
       "  </thead>\n",
       "  <tbody>\n",
       "    <tr>\n",
       "      <th>0</th>\n",
       "      <td>141234.0</td>\n",
       "      <td>iPhone</td>\n",
       "      <td>1.0</td>\n",
       "      <td>700.0</td>\n",
       "      <td>01/22/19 21:25</td>\n",
       "      <td>944 Walnut St, Boston, MA 02215</td>\n",
       "    </tr>\n",
       "    <tr>\n",
       "      <th>1</th>\n",
       "      <td>141235.0</td>\n",
       "      <td>Lightning Charging Cable</td>\n",
       "      <td>1.0</td>\n",
       "      <td>14.95</td>\n",
       "      <td>01/28/19 14:15</td>\n",
       "      <td>185 Maple St, Portland, OR 97035</td>\n",
       "    </tr>\n",
       "    <tr>\n",
       "      <th>2</th>\n",
       "      <td>141236.0</td>\n",
       "      <td>Wired Headphones</td>\n",
       "      <td>2.0</td>\n",
       "      <td>11.99</td>\n",
       "      <td>01/17/19 13:33</td>\n",
       "      <td>538 Adams St, San Francisco, CA 94016</td>\n",
       "    </tr>\n",
       "    <tr>\n",
       "      <th>3</th>\n",
       "      <td>141237.0</td>\n",
       "      <td>27in FHD Monitor</td>\n",
       "      <td>1.0</td>\n",
       "      <td>149.99</td>\n",
       "      <td>01-05-2019 20:33</td>\n",
       "      <td>738 10th St, Los Angeles, CA 90001</td>\n",
       "    </tr>\n",
       "    <tr>\n",
       "      <th>4</th>\n",
       "      <td>141238.0</td>\n",
       "      <td>Wired Headphones</td>\n",
       "      <td>1.0</td>\n",
       "      <td>11.99</td>\n",
       "      <td>01/25/19 11:59</td>\n",
       "      <td>387 10th St, Austin, TX 73301</td>\n",
       "    </tr>\n",
       "  </tbody>\n",
       "</table>\n",
       "</div>"
      ],
      "text/plain": [
       "   Order ID                   Product Quantity Ordered Price Each  \\\n",
       "0  141234.0                    iPhone              1.0      700.0   \n",
       "1  141235.0  Lightning Charging Cable              1.0      14.95   \n",
       "2  141236.0          Wired Headphones              2.0      11.99   \n",
       "3  141237.0          27in FHD Monitor              1.0     149.99   \n",
       "4  141238.0          Wired Headphones              1.0      11.99   \n",
       "\n",
       "         Order Date                       Purchase Address  \n",
       "0    01/22/19 21:25        944 Walnut St, Boston, MA 02215  \n",
       "1    01/28/19 14:15       185 Maple St, Portland, OR 97035  \n",
       "2    01/17/19 13:33  538 Adams St, San Francisco, CA 94016  \n",
       "3  01-05-2019 20:33     738 10th St, Los Angeles, CA 90001  \n",
       "4    01/25/19 11:59          387 10th St, Austin, TX 73301  "
      ]
     },
     "execution_count": 27,
     "metadata": {},
     "output_type": "execute_result"
    }
   ],
   "source": [
    "df.head()"
   ]
  },
  {
   "cell_type": "code",
   "execution_count": 28,
   "id": "9949f570-3826-4992-8ced-96c54eb6cc5d",
   "metadata": {},
   "outputs": [
    {
     "data": {
      "text/plain": [
       "Order ID            10\n",
       "Product             10\n",
       "Quantity Ordered    10\n",
       "Price Each          10\n",
       "Order Date          10\n",
       "Purchase Address    10\n",
       "dtype: int64"
      ]
     },
     "execution_count": 28,
     "metadata": {},
     "output_type": "execute_result"
    }
   ],
   "source": [
    "#checking for missing values in the data\n",
    "df.isnull().sum()"
   ]
  },
  {
   "cell_type": "code",
   "execution_count": 29,
   "id": "9179fbdc-3f60-4698-ac89-a35fd7d154cd",
   "metadata": {},
   "outputs": [
    {
     "data": {
      "text/plain": [
       "Order ID            object\n",
       "Product             object\n",
       "Quantity Ordered    object\n",
       "Price Each          object\n",
       "Order Date          object\n",
       "Purchase Address    object\n",
       "dtype: object"
      ]
     },
     "execution_count": 29,
     "metadata": {},
     "output_type": "execute_result"
    }
   ],
   "source": [
    "#checking for the datatypes in the data\n",
    "df.dtypes\n"
   ]
  },
  {
   "cell_type": "code",
   "execution_count": 30,
   "id": "d6eea375-e8e0-491c-b40e-c913dc7c20d0",
   "metadata": {},
   "outputs": [
    {
     "data": {
      "text/plain": [
       "Index(['Order ID', 'Product', 'Quantity Ordered', 'Price Each', 'Order Date',\n",
       "       'Purchase Address'],\n",
       "      dtype='object')"
      ]
     },
     "execution_count": 30,
     "metadata": {},
     "output_type": "execute_result"
    }
   ],
   "source": [
    "#checking for the columns\n",
    "df.columns\n"
   ]
  },
  {
   "cell_type": "code",
   "execution_count": 31,
   "id": "2405d76c-5830-4a22-8bd7-6c5a357f919b",
   "metadata": {},
   "outputs": [
    {
     "name": "stderr",
     "output_type": "stream",
     "text": [
      "C:\\Users\\HP\\AppData\\Local\\Temp\\ipykernel_2740\\303283871.py:4: UserWarning: Could not infer format, so each element will be parsed individually, falling back to `dateutil`. To ensure parsing is consistent and as-expected, please specify a format.\n",
      "  df['Order Date'] = pd.to_datetime(df['Order Date'], errors='coerce')\n"
     ]
    },
    {
     "name": "stdout",
     "output_type": "stream",
     "text": [
      "Order ID                    object\n",
      "Product                     object\n",
      "Quantity Ordered           float64\n",
      "Price Each                 float64\n",
      "Order Date          datetime64[ns]\n",
      "Purchase Address            object\n",
      "dtype: object\n"
     ]
    }
   ],
   "source": [
    "\n",
    "# Convert data types\n",
    "df['Quantity Ordered'] = pd.to_numeric(df['Quantity Ordered'], errors='coerce')\n",
    "df['Price Each'] = pd.to_numeric(df['Price Each'], errors='coerce')\n",
    "df['Order Date'] = pd.to_datetime(df['Order Date'], errors='coerce')\n",
    "\n",
    "# Check data types after conversion\n",
    "print(df.dtypes)\n"
   ]
  },
  {
   "cell_type": "code",
   "execution_count": 32,
   "id": "26757a05-cf6a-4267-acf9-598825edc2b1",
   "metadata": {},
   "outputs": [],
   "source": [
    "#For the missing values i opted to drop them\n",
    "df.dropna(inplace=True)"
   ]
  },
  {
   "cell_type": "code",
   "execution_count": 33,
   "id": "55837a8f-4183-4cd9-ae4d-182621f9ca33",
   "metadata": {},
   "outputs": [
    {
     "data": {
      "text/html": [
       "<div>\n",
       "<style scoped>\n",
       "    .dataframe tbody tr th:only-of-type {\n",
       "        vertical-align: middle;\n",
       "    }\n",
       "\n",
       "    .dataframe tbody tr th {\n",
       "        vertical-align: top;\n",
       "    }\n",
       "\n",
       "    .dataframe thead th {\n",
       "        text-align: right;\n",
       "    }\n",
       "</style>\n",
       "<table border=\"1\" class=\"dataframe\">\n",
       "  <thead>\n",
       "    <tr style=\"text-align: right;\">\n",
       "      <th></th>\n",
       "      <th>Order ID</th>\n",
       "      <th>Product</th>\n",
       "      <th>Quantity Ordered</th>\n",
       "      <th>Price Each</th>\n",
       "      <th>Order Date</th>\n",
       "      <th>Purchase Address</th>\n",
       "    </tr>\n",
       "  </thead>\n",
       "  <tbody>\n",
       "    <tr>\n",
       "      <th>4178</th>\n",
       "      <td>177507</td>\n",
       "      <td>AAA Batteries (4-pack)</td>\n",
       "      <td>1.0</td>\n",
       "      <td>2.99</td>\n",
       "      <td>2019-04-09 20:13:00</td>\n",
       "      <td>825 2nd St, Portland, OR 97035</td>\n",
       "    </tr>\n",
       "    <tr>\n",
       "      <th>4179</th>\n",
       "      <td>177508</td>\n",
       "      <td>Bose SoundSport Headphones</td>\n",
       "      <td>1.0</td>\n",
       "      <td>99.99</td>\n",
       "      <td>2019-04-07 06:45:00</td>\n",
       "      <td>845 Lakeview St, San Francisco, CA 94016</td>\n",
       "    </tr>\n",
       "    <tr>\n",
       "      <th>4180</th>\n",
       "      <td>177509</td>\n",
       "      <td>AAA Batteries (4-pack)</td>\n",
       "      <td>1.0</td>\n",
       "      <td>2.99</td>\n",
       "      <td>2019-04-28 19:03:00</td>\n",
       "      <td>616 9th St, New York City, NY 10001</td>\n",
       "    </tr>\n",
       "    <tr>\n",
       "      <th>4181</th>\n",
       "      <td>177510</td>\n",
       "      <td>Bose SoundSport Headphones</td>\n",
       "      <td>1.0</td>\n",
       "      <td>99.99</td>\n",
       "      <td>2019-04-15 09:51:00</td>\n",
       "      <td>182 Main St, San Francisco, CA 94016</td>\n",
       "    </tr>\n",
       "    <tr>\n",
       "      <th>4182</th>\n",
       "      <td>177511</td>\n",
       "      <td>iPhone</td>\n",
       "      <td>1.0</td>\n",
       "      <td>700.00</td>\n",
       "      <td>2019-04-07 17:38:00</td>\n",
       "      <td>719 North St, Los Angeles, CA 90001</td>\n",
       "    </tr>\n",
       "  </tbody>\n",
       "</table>\n",
       "</div>"
      ],
      "text/plain": [
       "     Order ID                     Product  Quantity Ordered  Price Each  \\\n",
       "4178   177507      AAA Batteries (4-pack)               1.0        2.99   \n",
       "4179   177508  Bose SoundSport Headphones               1.0       99.99   \n",
       "4180   177509      AAA Batteries (4-pack)               1.0        2.99   \n",
       "4181   177510  Bose SoundSport Headphones               1.0       99.99   \n",
       "4182   177511                      iPhone               1.0      700.00   \n",
       "\n",
       "              Order Date                          Purchase Address  \n",
       "4178 2019-04-09 20:13:00            825 2nd St, Portland, OR 97035  \n",
       "4179 2019-04-07 06:45:00  845 Lakeview St, San Francisco, CA 94016  \n",
       "4180 2019-04-28 19:03:00       616 9th St, New York City, NY 10001  \n",
       "4181 2019-04-15 09:51:00      182 Main St, San Francisco, CA 94016  \n",
       "4182 2019-04-07 17:38:00       719 North St, Los Angeles, CA 90001  "
      ]
     },
     "execution_count": 33,
     "metadata": {},
     "output_type": "execute_result"
    }
   ],
   "source": [
    "#Taking the last five row of the data \n",
    "df.tail()"
   ]
  },
  {
   "cell_type": "code",
   "execution_count": 34,
   "id": "908af608-2a61-4271-b571-a1f3b09d7cb0",
   "metadata": {},
   "outputs": [],
   "source": [
    "#Answering the questions for the reason for analysis\n"
   ]
  },
  {
   "cell_type": "raw",
   "id": "5a78514f-5042-48ee-875d-d5807771be2a",
   "metadata": {},
   "source": [
    "Top and bottom Five products by sale"
   ]
  },
  {
   "cell_type": "code",
   "execution_count": 35,
   "id": "bfc9acfd-a10b-46bc-8d07-c065539f549a",
   "metadata": {},
   "outputs": [
    {
     "name": "stdout",
     "output_type": "stream",
     "text": [
      "Product\n",
      "AAA Batteries (4-pack)      715.0\n",
      "AA Batteries (4-pack)       612.0\n",
      "USB-C Charging Cable        568.0\n",
      "Lightning Charging Cable    519.0\n",
      "Wired Headphones            448.0\n",
      "Name: Quantity Ordered, dtype: float64\n"
     ]
    }
   ],
   "source": [
    "# Group by 'Product' and sum the 'Quantity Ordered'\n",
    "top_products = df.groupby('Product')['Quantity Ordered'].sum().sort_values(ascending=False).head(5)\n",
    "\n",
    "# Display the result\n",
    "print(top_products)"
   ]
  },
  {
   "cell_type": "code",
   "execution_count": 36,
   "id": "c502713d-0615-4231-b656-e91371503b99",
   "metadata": {},
   "outputs": [
    {
     "name": "stdout",
     "output_type": "stream",
     "text": [
      "Product\n",
      "ThinkPad Laptop       86.0\n",
      "20in Monitor          83.0\n",
      "Vareebadd Phone       44.0\n",
      "LG Washing Machine    15.0\n",
      "LG Dryer              12.0\n",
      "Name: Quantity Ordered, dtype: float64\n"
     ]
    }
   ],
   "source": [
    "least_products = df.groupby(\"Product\")[\"Quantity Ordered\"].sum().sort_values(ascending=False).tail(5)\n",
    "#Displaying the result\n",
    "print(least_products)"
   ]
  },
  {
   "cell_type": "raw",
   "id": "c1a8abce-46d9-4dc5-897b-e836b90c9866",
   "metadata": {},
   "source": [
    "Showing the Variation of products by Region"
   ]
  },
  {
   "cell_type": "code",
   "execution_count": 37,
   "id": "a0549d71-0cfd-49a1-8042-779ec7b9ffc6",
   "metadata": {},
   "outputs": [
    {
     "name": "stderr",
     "output_type": "stream",
     "text": [
      "C:\\Users\\HP\\AppData\\Local\\Temp\\ipykernel_2740\\295336605.py:10: FutureWarning: \n",
      "\n",
      "Passing `palette` without assigning `hue` is deprecated and will be removed in v0.14.0. Assign the `x` variable to `hue` and set `legend=False` for the same effect.\n",
      "\n",
      "  sns.barplot(x=sales_by_city.index, y=sales_by_city.values, palette=\"Blues_r\")\n"
     ]
    },
    {
     "data": {
      "image/png": "[encoded data removed]",
      "text/plain": [
       "<Figure size 1000x500 with 1 Axes>"
      ]
     },
     "metadata": {},
     "output_type": "display_data"
    }
   ],
   "source": [
    "# Extract city from 'Purchase Address'\n",
    "df['City'] = df['Purchase Address'].apply(lambda x: x.split(',')[1].strip())\n",
    "\n",
    "# Compute total sales per city\n",
    "df['Sales'] = df['Quantity Ordered'] * df['Price Each']\n",
    "sales_by_city = df.groupby('City')['Sales'].sum().sort_values(ascending=False)\n",
    "\n",
    "# Plot sales variation by city (region)\n",
    "plt.figure(figsize=(10, 5))\n",
    "sns.barplot(x=sales_by_city.index, y=sales_by_city.values, palette=\"Blues_r\")\n",
    "\n",
    "# Formatting\n",
    "plt.xlabel(\"City\", fontsize=12)\n",
    "plt.ylabel(\"Total Sales ($)\", fontsize=12)\n",
    "plt.title(\"Total Sales by City\", fontsize=14)\n",
    "plt.xticks(rotation=45)  # Rotate city names for better readability\n",
    "\n",
    "# Show plot\n",
    "plt.show()"
   ]
  },
  {
   "cell_type": "raw",
   "id": "fb3a5453-ac7b-468d-985f-03e450963d6a",
   "metadata": {},
   "source": [
    "showing the most product sold in san francisco as it is the most selling region\n"
   ]
  },
  {
   "cell_type": "code",
   "execution_count": 38,
   "id": "c2c613cc-67c4-482b-9853-125847c7f98b",
   "metadata": {},
   "outputs": [
    {
     "name": "stdout",
     "output_type": "stream",
     "text": [
      "Product\n",
      "AAA Batteries (4-pack)    178.0\n",
      "Name: Quantity Ordered, dtype: float64\n"
     ]
    }
   ],
   "source": [
    "# Extract city from 'Purchase Address'\n",
    "df['City'] = df['Purchase Address'].apply(lambda x: x.split(',')[1].strip())\n",
    "\n",
    "# Filter only San Francisco sales\n",
    "sf_sales = df[df['City'] == 'San Francisco']\n",
    "\n",
    "# Group by product and sum the quantity ordered\n",
    "most_sold_product_sf = sf_sales.groupby('Product')['Quantity Ordered'].sum().sort_values(ascending=False)\n",
    "\n",
    "# Display the most sold product\n",
    "print(most_sold_product_sf.head(1))  # Show the top-selling product"
   ]
  },
  {
   "cell_type": "raw",
   "id": "901ea0b1-2978-4bf6-9131-059e6ac1444a",
   "metadata": {},
   "source": [
    "#To show the least product in all the regions"
   ]
  },
  {
   "cell_type": "code",
   "execution_count": 39,
   "id": "b5c91287-19d7-48b5-ba9c-f2bf9221b340",
   "metadata": {},
   "outputs": [
    {
     "name": "stdout",
     "output_type": "stream",
     "text": [
      "Product\n",
      "LG Dryer    12.0\n",
      "Name: Quantity Ordered, dtype: float64\n"
     ]
    }
   ],
   "source": [
    "# Group by product and sum the quantity ordered\n",
    "least_sold_product = df.groupby('Product')['Quantity Ordered'].sum().sort_values(ascending=True)\n",
    "\n",
    "# Display the least sold product\n",
    "print(least_sold_product.head(1))  # Show the least-selling product"
   ]
  },
  {
   "cell_type": "raw",
   "id": "b6b993d7-1785-4a31-ab91-a7094b06117d",
   "metadata": {},
   "source": [
    "Python Code to Display All Ordered Products"
   ]
  },
  {
   "cell_type": "code",
   "execution_count": 40,
   "id": "86755102-c202-4bc6-a5cf-d60ffe000643",
   "metadata": {},
   "outputs": [
    {
     "name": "stdout",
     "output_type": "stream",
     "text": [
      "All products ordered:\n",
      "['iPhone' 'Lightning Charging Cable' 'Wired Headphones' '27in FHD Monitor'\n",
      " 'AAA Batteries (4-pack)' '27in 4K Gaming Monitor' 'USB-C Charging Cable'\n",
      " 'Bose SoundSport Headphones' 'Apple Airpods Headphones'\n",
      " 'Macbook Pro Laptop' 'Flatscreen TV' 'Vareebadd Phone'\n",
      " 'AA Batteries (4-pack)' 'Google Phone' '20in Monitor'\n",
      " '34in Ultrawide Monitor' 'ThinkPad Laptop' 'LG Dryer'\n",
      " 'LG Washing Machine']\n"
     ]
    }
   ],
   "source": [
    "# Display all unique products ordered\n",
    "all_products = df['Product'].unique()\n",
    "\n",
    "# Print the list of products\n",
    "print(\"All products ordered:\")\n",
    "print(all_products)"
   ]
  },
  {
   "cell_type": "code",
   "execution_count": 41,
   "id": "9d03eeab-a1cd-4c75-af46-a90787858b42",
   "metadata": {},
   "outputs": [
    {
     "name": "stdout",
     "output_type": "stream",
     "text": [
      "Empty DataFrame\n",
      "Columns: [Order ID, Product, Quantity Ordered, Price Each, Order Date, Purchase Address, City, Sales]\n",
      "Index: []\n"
     ]
    }
   ],
   "source": [
    "#To show product shown by a certain order id\n",
    "# Example Order ID (replace with your desired Order ID)\n",
    "order_id = 4179  # Change this to the specific Order ID you want to check\n",
    "\n",
    "# Filter the DataFrame to get details of the given Order ID\n",
    "order_details = df[df['Order ID'] == order_id]\n",
    "\n",
    "# Display the details\n",
    "print(order_details)\n"
   ]
  },
  {
   "cell_type": "raw",
   "id": "1d1c343e-2861-4029-97a8-d091b83725c0",
   "metadata": {},
   "source": [
    "#To show variation of sales in different months"
   ]
  },
  {
   "cell_type": "code",
   "execution_count": 42,
   "id": "131b4205-4890-43a1-b53d-3dd026ca7d12",
   "metadata": {},
   "outputs": [
    {
     "data": {
      "image/png": "[encoded data removed]",
      "text/plain": [
       "<Figure size 1000x500 with 1 Axes>"
      ]
     },
     "metadata": {},
     "output_type": "display_data"
    }
   ],
   "source": [
    "\n",
    "# Convert 'Order Date' column to datetime format\n",
    "df['Order Date'] = pd.to_datetime(df['Order Date'])\n",
    "\n",
    "# Extract month from 'Order Date'\n",
    "df['Month'] = df['Order Date'].dt.month\n",
    "\n",
    "# Group by month and sum the quantity ordered\n",
    "monthly_sales = df.groupby('Month')['Quantity Ordered'].sum()\n",
    "\n",
    "# Plot the variation of products ordered by month\n",
    "plt.figure(figsize=(10, 5))\n",
    "sns.lineplot(x=monthly_sales.index, y=monthly_sales.values, marker=\"o\", linestyle=\"-\", color=\"b\")\n",
    "\n",
    "# Formatting the plot\n",
    "plt.xlabel(\"Month\")\n",
    "plt.ylabel(\"Total Products Ordered\")\n",
    "plt.title(\"Variation of Products Ordered by Month\")\n",
    "plt.xticks(ticks=range(1, 13), labels=[\n",
    "    \"Jan\", \"Feb\", \"Mar\", \"Apr\", \"May\", \"Jun\", \"Jul\", \"Aug\", \"Sep\", \"Oct\", \"Nov\", \"Dec\"\n",
    "])  # Display months in readable format\n",
    "plt.grid(True)\n",
    "\n",
    "# Show the plot\n",
    "plt.show()\n"
   ]
  },
  {
   "cell_type": "code",
   "execution_count": 43,
   "id": "8f17af8d-407c-4567-bba0-935247aced47",
   "metadata": {},
   "outputs": [],
   "source": [
    "#best way to show relationship between sales and quantity ordered\n",
    "#In your dataset, Sales ($) is the total revenue generated from an order"
   ]
  },
  {
   "cell_type": "code",
   "execution_count": 44,
   "id": "fd8c7eef-feba-4331-bfd1-a1159a2e7d9a",
   "metadata": {},
   "outputs": [
    {
     "data": {
      "image/png": "[encoded data removed]",
      "text/plain": [
       "<Figure size 800x500 with 1 Axes>"
      ]
     },
     "metadata": {},
     "output_type": "display_data"
    }
   ],
   "source": [
    "#Relationship between sales and Quantity ordered\n",
    "# Calculate Sales ($) column\n",
    "df['Sales'] = df['Quantity Ordered'] * df['Price Each']\n",
    "\n",
    "# Plot scatter plot with regression line\n",
    "plt.figure(figsize=(8, 5))\n",
    "sns.regplot(x=df['Quantity Ordered'], y=df['Sales'], scatter_kws={'alpha':0.5}, line_kws={'color':'red'})\n",
    "\n",
    "# Formatting the plot\n",
    "plt.xlabel(\"Quantity Ordered\")\n",
    "plt.ylabel(\"Total Sales ($)\")\n",
    "plt.title(\"Relationship Between Sales and Quantity Ordered\")\n",
    "plt.grid(True)\n",
    "\n",
    "# Show the plot\n",
    "plt.show()\n"
   ]
  },
  {
   "cell_type": "raw",
   "id": "c87f41e6-b787-4083-97d8-d2bc4e1b765b",
   "metadata": {},
   "source": [
    "Data-driven decision-making is the key to increasing sales and profitability. The company should focus on best-selling products, improve pricing strategies, target high-revenue regions, and enhance customer experience to drive sustainable growth."
   ]
  },
  {
   "cell_type": "raw",
   "id": "0ad27271-6de8-46b2-987c-15ac8039ea20",
   "metadata": {},
   "source": [
    "SOME IMPORTANT INSIGHTS DERIVED FROM THE DATA AND WHAT THE COMPANY SHOULD DO IN ORDER TO IMPROVE\n",
    "1. Focus on Best-Selling Products\n",
    "\n",
    "    Insights: Some products are consistently top sellers across different cities and months.\n",
    "    Action Plan:\n",
    "        Stock more inventory of top-selling products to avoid stockouts.\n",
    "        Offer bundle deals (e.g., headphones + chargers) to encourage higher spending.\n",
    "        Use discounts on high-selling products to increase volume without reducing margins too much.\n",
    "\n",
    "2. Address Least-Selling Products\n",
    "\n",
    "    Insights: Some products perform poorly across all regions.\n",
    "    Action Plan:\n",
    "        Identify why they are underperforming (e.g., lack of awareness, high pricing, seasonal demand).\n",
    "        Re-market or reposition them with better promotions.\n",
    "        Consider removing or replacing non-performing products to reduce storage costs.\n",
    "\n",
    "3. Target High-Revenue Cities\n",
    "\n",
    "    Insights: Sales vary significantly by city, with some cities contributing more revenue.\n",
    "    Action Plan:\n",
    "        Increase advertising in high-performing cities to maximize sales.\n",
    "        Identify lower-performing cities and assess why sales are low (e.g., poor delivery options, lack of marketing).\n",
    "        Expand logistics and delivery options in top-revenue cities for better customer experience.\n",
    "\n",
    "4. Encourage Bulk Purchases\n",
    "\n",
    "    Insights: Larger quantity orders often result in higher sales.\n",
    "    Action Plan:\n",
    "        Introduce bulk purchase discounts for corporate or business clients.\n",
    "        Offer loyalty programs where repeat buyers get exclusive discounts on bulk orders.\n",
    "        Implement a subscription model for frequently ordered items (e.g., batteries, office supplies).\n",
    "\n",
    "5. Optimize Pricing Strategy\n",
    "\n",
    "    Insights: Some products have high demand even at higher prices, while others may need price adjustments.\n",
    "    Action Plan:\n",
    "        Conduct price testing (A/B testing) to find the best price point.\n",
    "        Offer seasonal discounts to increase sales volume.\n",
    "        Introduce dynamic pricing, adjusting prices based on demand and competition.\n",
    "\n",
    "6. Improve Customer Experience\n",
    "\n",
    "    Insights: Customers in high-sales regions might be driving sales through repeat purchases.\n",
    "    Action Plan:\n",
    "        Improve customer support and faster delivery options in high-performing regions.\n",
    "        Introduce a recommendation system suggesting related products to customers.\n",
    "        Gather customer feedback on products and use it to improve offerings.\n",
    "\n",
    "7. Leverage Data for Smart Decision-Making\n",
    "\n",
    "    Insights: Analyzing past sales data helps predict trends and customer behavior.\n",
    "    Action Plan:\n",
    "        Invest in predictive analytics to forecast sales trends.\n",
    "        Use Power BI or Python-based dashboards to track performance in real-time.\n",
    "        Automate inventory management to avoid stock shortages of top-selling products."
   ]
  },
  {
   "cell_type": "code",
   "execution_count": null,
   "id": "3b9c1809-3d10-42d7-9729-0fe7da7d76b6",
   "metadata": {},
   "outputs": [],
   "source": []
  }
 ],
 "metadata": {
  "kernelspec": {
   "display_name": "Python 3 (ipykernel)",
   "language": "python",
   "name": "python3"
  },
  "language_info": {
   "codemirror_mode": {
    "name": "ipython",
    "version": 3
   },
   "file_extension": ".py",
   "mimetype": "text/x-python",
   "name": "python",
   "nbconvert_exporter": "python",
   "pygments_lexer": "ipython3",
   "version": "3.12.4"
  }
 },
 "nbformat": 4,
 "nbformat_minor": 5
}
